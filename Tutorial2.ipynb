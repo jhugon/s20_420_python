{
 "cells": [
  {
   "cell_type": "markdown",
   "metadata": {},
   "source": [
    "Tutorial 2: Dr. Hugon's Functions\n",
    "===========================\n",
    "\n",
    "This tutorial shows examples of using Dr. Hugon's fitting function and special plotting function. In addition to the importing numpy and matplotlib, we need to import Dr. Hugon's code."
   ]
  },
  {
   "cell_type": "code",
   "execution_count": 1,
   "metadata": {},
   "outputs": [],
   "source": [
    "%matplotlib inline\n",
    "\n",
    "import matplotlib\n",
    "import numpy as np\n",
    "import matplotlib.pyplot as plt\n",
    "from compare_results import compare_results\n",
    "from chi2fit import linear_fit"
   ]
  },
  {
   "cell_type": "markdown",
   "metadata": {},
   "source": [
    "Here is a set of \"experimental\" data. Assume the units are meters, seconds, and meters/second."
   ]
  },
  {
   "cell_type": "code",
   "execution_count": 2,
   "metadata": {},
   "outputs": [],
   "source": [
    "t = np.array([ 0.9591186 ,  2.08359411,  2.8915512 ,  4.14931767,  4.7816914 , 6.02563874,  7.01663291,  7.82515169,  9.12542267, 10.15746663])\n",
    "x = np.array([ 2.26726649,  6.08712157,  7.14593551, 11.03840496, 12.21929344, 14.79289917, 18.21639325, 19.55623834, 22.97149565, 25.92840552])\n",
    "tuncertainty = 0.\n",
    "xuncertainty = 0.5\n",
    "expected_speed = 4\n",
    "expected_speed_uncertainty = 0.5"
   ]
  },
  {
   "cell_type": "markdown",
   "metadata": {},
   "source": [
    "Given the above set of data, we'd first want to plot it."
   ]
  },
  {
   "cell_type": "code",
   "execution_count": 3,
   "metadata": {},
   "outputs": [
    {
     "data": {
      "text/plain": [
       "Text(0, 0.5, 'x [m]')"
      ]
     },
     "execution_count": 3,
     "metadata": {},
     "output_type": "execute_result"
    },
    {
     "data": {
      "image/png": "[encoded data removed]",
      "text/plain": [
       "<Figure size 432x288 with 1 Axes>"
      ]
     },
     "metadata": {
      "needs_background": "light"
     },
     "output_type": "display_data"
    }
   ],
   "source": [
    "plt.errorbar(t,x,xerr=None,yerr=xuncertainty,linestyle=\"\",marker=\"o\",label=\"Data\")\n",
    "plt.title(\"The Plot Title\")\n",
    "plt.xlabel(\"t [s]\")\n",
    "plt.ylabel(\"x [m]\")"
   ]
  },
  {
   "cell_type": "markdown",
   "metadata": {},
   "source": [
    "It's hard to see the errorbars, so maybe we can change the dot style:"
   ]
  },
  {
   "cell_type": "code",
   "execution_count": 4,
   "metadata": {},
   "outputs": [
    {
     "data": {
      "text/plain": [
       "Text(0, 0.5, 'x [m]')"
      ]
     },
     "execution_count": 4,
     "metadata": {},
     "output_type": "execute_result"
    },
    {
     "data": {
      "image/png": "[encoded data removed]",
      "text/plain": [
       "<Figure size 432x288 with 1 Axes>"
      ]
     },
     "metadata": {
      "needs_background": "light"
     },
     "output_type": "display_data"
    }
   ],
   "source": [
    "plt.errorbar(t,x,xerr=None,yerr=xuncertainty,linestyle=\"\",marker=\".\",label=\"Data\")\n",
    "plt.title(\"The Plot Title\")\n",
    "plt.xlabel(\"t [s]\")\n",
    "plt.ylabel(\"x [m]\")"
   ]
  },
  {
   "cell_type": "markdown",
   "metadata": {},
   "source": [
    "It looks like a straight line, so we can try to fit it. My code has a fit function for this."
   ]
  },
  {
   "cell_type": "code",
   "execution_count": 5,
   "metadata": {},
   "outputs": [
    {
     "name": "stdout",
     "output_type": "stream",
     "text": [
      "################################################################################\n",
      "Linear Fit Results for 10 Data Points\n",
      "slope estimate:                   2.5077 +/-    0.04593\n",
      "intercept estimate:              0.22636 +/-     0.2857\n",
      "y point uncertainty estimate:     0.4216   +0.16226    -0.074993  \n",
      "r^2:                             0.99732\n",
      "################################################################################\n"
     ]
    }
   ],
   "source": [
    "slope, intercept, slopeerror, intercepterror, xerr = linear_fit(t,x)"
   ]
  },
  {
   "cell_type": "markdown",
   "metadata": {},
   "source": [
    "This is similar to doing a linear fit in Excel. It prints out, and sets to those variables, the best fit slope, intercept, each of their uncertainties, and and estimate uncertainty on the y coordinate measurements (it assumes they all have the same uncertainty).\n",
    "\n",
    "In the printout, the uncertainty on the uncertainty estimate is given. It's asymmetric.\n",
    "\n",
    "We can check if our expected uncertainty on our distance variable is within the range the fit spits out. Our expectation, 0.5 m, is within the uncertainty region the fit prints out (0.42 +0.16 - 0.07) m, so that means we probably estimated the uncertainty properly.\n",
    "\n",
    "The slope of the line is an estimate of the speed. (2.51 +/- 0.05) m/s doesn't match well with our expectation of (4.0 +/- 0.5) m/s.\n",
    "\n",
    "We should check that the fit worked by plotting the fitted line with the data. The function linspace below just generates an evenly spaced set of points. It's good for using as the domain/independent variable of a function you want to plot."
   ]
  },
  {
   "cell_type": "code",
   "execution_count": 6,
   "metadata": {},
   "outputs": [
    {
     "data": {
      "text/plain": [
       "<matplotlib.legend.Legend at 0x2f47c8d0d88>"
      ]
     },
     "execution_count": 6,
     "metadata": {},
     "output_type": "execute_result"
    },
    {
     "data": {
      "image/png": "[encoded data removed]",
      "text/plain": [
       "<Figure size 432x288 with 1 Axes>"
      ]
     },
     "metadata": {
      "needs_background": "light"
     },
     "output_type": "display_data"
    }
   ],
   "source": [
    "xdomainvar = np.linspace(0,10) # make evenly spaced points between 0 and 10\n",
    "plt.plot(xdomainvar,slope*xdomainvar+intercept,label=\"Fit\")\n",
    "plt.errorbar(t,x,xerr=None,yerr=xuncertainty,linestyle=\"\",marker=\".\",label=\"Data\")\n",
    "plt.title(\"The Plot Title\")\n",
    "plt.xlabel(\"t [s]\")\n",
    "plt.ylabel(\"x [m]\")\n",
    "plt.legend()"
   ]
  },
  {
   "cell_type": "markdown",
   "metadata": {},
   "source": [
    "The fit looks really good. The problem probably isn't with the fit. If the fit function produces massive uncertainties, that can be another sign of a bad fit, but that doesn't seem to be the case here.\n",
    "\n",
    "Lets make a graph comparing our result with the expected one. The compare_results function does that.\n",
    "\n",
    "The first argument is a list of titles for the expereimental results. The second is a list of result values. The third is a list of result error values. The fourth is the expected value, The fifth is the expected uncertainty value (None if no uncertainty). The Sixth is the label for these values. The Seventh is where to save an image for this plot, so you can put the image in your report easier."
   ]
  },
  {
   "cell_type": "code",
   "execution_count": 7,
   "metadata": {},
   "outputs": [
    {
     "data": {
      "image/png": "[encoded data removed]",
      "text/plain": [
       "<Figure size 360x360 with 1 Axes>"
      ]
     },
     "metadata": {
      "needs_background": "light"
     },
     "output_type": "display_data"
    }
   ],
   "source": [
    "compare_results([\"Experimental Data\"],[slope],[slopeerror],expected_speed,expected_speed_uncertainty,\"Speed [m/s]\",\"tutorial_results_plot.png\")"
   ]
  },
  {
   "cell_type": "markdown",
   "metadata": {},
   "source": [
    "The line shows the expected result, and the cyan band shows the uncertainty. The points show your and other's measurements you want to plot. You can see here that the data doesn't overlap with the expectation. That means there was either an error in the experiment or expectation. An error in an expectation can mean a new discovery! Unfortunately, that's rare in Advanced Lab."
   ]
  },
  {
   "cell_type": "markdown",
   "metadata": {},
   "source": [
    "Here is another example, comparing data from multiple experiments to a result with no uncertainty."
   ]
  },
  {
   "cell_type": "code",
   "execution_count": 9,
   "metadata": {},
   "outputs": [
    {
     "data": {
      "image/png": "[encoded data removed]",
      "text/plain": [
       "<Figure size 360x360 with 1 Axes>"
      ]
     },
     "metadata": {
      "needs_background": "light"
     },
     "output_type": "display_data"
    }
   ],
   "source": [
    "compare_results([\"Hugon, et. al. 2019\",\"Doe, et. al. 2019\",\"Doe, et. al. 2020\"],[2.5, 2.0, 2.1],[1.,0.5,0.4],2.3,None,\"R [$\\Omega$]\",\"tutorial_results_plot2.png\")"
   ]
  },
  {
   "cell_type": "code",
   "execution_count": null,
   "metadata": {},
   "outputs": [],
   "source": []
  }
 ],
 "metadata": {
  "kernelspec": {
   "display_name": "Python 3",
   "language": "python",
   "name": "python3"
  },
  "language_info": {
   "codemirror_mode": {
    "name": "ipython",
    "version": 3
   },
   "file_extension": ".py",
   "mimetype": "text/x-python",
   "name": "python",
   "nbconvert_exporter": "python",
   "pygments_lexer": "ipython3",
   "version": "3.7.4"
  }
 },
 "nbformat": 4,
 "nbformat_minor": 2
}
